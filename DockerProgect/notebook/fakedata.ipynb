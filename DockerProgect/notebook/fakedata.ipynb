{
 "cells": [
  {
   "cell_type": "code",
   "execution_count": 2,
   "metadata": {},
   "outputs": [],
   "source": [
    "import pandas as pd\n",
    "import numpy as np\n",
    "import random\n",
    "import faker\n",
    "\n",
    "# Initialize Faker to generate random names\n",
    "fake = faker.Faker()\n",
    "\n",
    "# Generating fake data\n",
    "data = {\n",
    "    \"name\": [fake.name() for _ in range(20)],\n",
    "    \"age\": np.random.randint(18, 65, size=20),\n",
    "    \"height\": np.random.uniform(150, 200, size=20).round(2)\n",
    "}\n",
    "\n",
    "# Create DataFrame\n",
    "df = pd.DataFrame(data)\n",
    "df.head(20)  # Display all 20 rows\n",
    "\n",
    "df.to_csv('PersonData.csv')"
   ]
  },
  {
   "cell_type": "code",
   "execution_count": null,
   "metadata": {},
   "outputs": [],
   "source": []
  }
 ],
 "metadata": {
  "kernelspec": {
   "display_name": "dockerproject",
   "language": "python",
   "name": "python3"
  },
  "language_info": {
   "codemirror_mode": {
    "name": "ipython",
    "version": 3
   },
   "file_extension": ".py",
   "mimetype": "text/x-python",
   "name": "python",
   "nbconvert_exporter": "python",
   "pygments_lexer": "ipython3",
   "version": "3.11.7"
  }
 },
 "nbformat": 4,
 "nbformat_minor": 2
}
